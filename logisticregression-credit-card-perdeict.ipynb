{
 "cells": [
  {
   "cell_type": "code",
   "execution_count": 1,
   "id": "4d0082a0",
   "metadata": {
    "_cell_guid": "b1076dfc-b9ad-4769-8c92-a6c4dae69d19",
    "_uuid": "8f2839f25d086af736a60e9eeb907d3b93b6e0e5",
    "execution": {
     "iopub.execute_input": "2025-03-24T09:36:52.249689Z",
     "iopub.status.busy": "2025-03-24T09:36:52.249340Z",
     "iopub.status.idle": "2025-03-24T09:36:54.779043Z",
     "shell.execute_reply": "2025-03-24T09:36:54.777762Z"
    },
    "papermill": {
     "duration": 2.535913,
     "end_time": "2025-03-24T09:36:54.780752",
     "exception": false,
     "start_time": "2025-03-24T09:36:52.244839",
     "status": "completed"
    },
    "tags": []
   },
   "outputs": [
    {
     "name": "stdout",
     "output_type": "stream",
     "text": [
      "/kaggle/input/default-of-credit-card-clients-dataset/UCI_Credit_Card.csv\n"
     ]
    }
   ],
   "source": [
    "# This Python 3 environment comes with many helpful analytics libraries installed\n",
    "# It is defined by the kaggle/python Docker image: https://github.com/kaggle/docker-python\n",
    "# For example, here's several helpful packages to load\n",
    "\n",
    "import numpy as np # linear algebra\n",
    "import pandas as pd # data processing, CSV file I/O (e.g. pd.read_csv)\n",
    "import matplotlib.pyplot as plt\n",
    "from sklearn.linear_model import LogisticRegression\n",
    "from sklearn.model_selection  import train_test_split\n",
    "\n",
    "# Input data files are available in the read-only \"../input/\" directory\n",
    "# For example, running this (by clicking run or pressing Shift+Enter) will list all files under the input directory\n",
    "\n",
    "import os\n",
    "for dirname, _, filenames in os.walk('/kaggle/input'):\n",
    "    for filename in filenames:\n",
    "        print(os.path.join(dirname, filename))\n",
    "\n",
    "# You can write up to 20GB to the current directory (/kaggle/working/) that gets preserved as output when you create a version using \"Save & Run All\" \n",
    "# You can also write temporary files to /kaggle/temp/, but they won't be saved outside of the current session"
   ]
  },
  {
   "cell_type": "code",
   "execution_count": 2,
   "id": "5a42120d",
   "metadata": {
    "execution": {
     "iopub.execute_input": "2025-03-24T09:36:54.789550Z",
     "iopub.status.busy": "2025-03-24T09:36:54.788927Z",
     "iopub.status.idle": "2025-03-24T09:36:54.961241Z",
     "shell.execute_reply": "2025-03-24T09:36:54.960055Z"
    },
    "papermill": {
     "duration": 0.178113,
     "end_time": "2025-03-24T09:36:54.963231",
     "exception": false,
     "start_time": "2025-03-24T09:36:54.785118",
     "status": "completed"
    },
    "tags": []
   },
   "outputs": [],
   "source": [
    "df=pd.read_csv(\"/kaggle/input/default-of-credit-card-clients-dataset/UCI_Credit_Card.csv\")"
   ]
  },
  {
   "cell_type": "code",
   "execution_count": 3,
   "id": "b3bcddb9",
   "metadata": {
    "execution": {
     "iopub.execute_input": "2025-03-24T09:36:54.970319Z",
     "iopub.status.busy": "2025-03-24T09:36:54.969919Z",
     "iopub.status.idle": "2025-03-24T09:36:55.017270Z",
     "shell.execute_reply": "2025-03-24T09:36:55.016095Z"
    },
    "papermill": {
     "duration": 0.052871,
     "end_time": "2025-03-24T09:36:55.019110",
     "exception": false,
     "start_time": "2025-03-24T09:36:54.966239",
     "status": "completed"
    },
    "tags": []
   },
   "outputs": [
    {
     "data": {
      "text/html": [
       "<div>\n",
       "<style scoped>\n",
       "    .dataframe tbody tr th:only-of-type {\n",
       "        vertical-align: middle;\n",
       "    }\n",
       "\n",
       "    .dataframe tbody tr th {\n",
       "        vertical-align: top;\n",
       "    }\n",
       "\n",
       "    .dataframe thead th {\n",
       "        text-align: right;\n",
       "    }\n",
       "</style>\n",
       "<table border=\"1\" class=\"dataframe\">\n",
       "  <thead>\n",
       "    <tr style=\"text-align: right;\">\n",
       "      <th></th>\n",
       "      <th>LIMIT_BAL</th>\n",
       "      <th>SEX</th>\n",
       "      <th>EDUCATION</th>\n",
       "      <th>MARRIAGE</th>\n",
       "      <th>AGE</th>\n",
       "      <th>PAY_0</th>\n",
       "      <th>PAY_2</th>\n",
       "      <th>PAY_3</th>\n",
       "      <th>PAY_4</th>\n",
       "      <th>PAY_5</th>\n",
       "      <th>...</th>\n",
       "      <th>BILL_AMT4</th>\n",
       "      <th>BILL_AMT5</th>\n",
       "      <th>BILL_AMT6</th>\n",
       "      <th>PAY_AMT1</th>\n",
       "      <th>PAY_AMT2</th>\n",
       "      <th>PAY_AMT3</th>\n",
       "      <th>PAY_AMT4</th>\n",
       "      <th>PAY_AMT5</th>\n",
       "      <th>PAY_AMT6</th>\n",
       "      <th>default.payment.next.month</th>\n",
       "    </tr>\n",
       "  </thead>\n",
       "  <tbody>\n",
       "    <tr>\n",
       "      <th>0</th>\n",
       "      <td>20000.0</td>\n",
       "      <td>2</td>\n",
       "      <td>2</td>\n",
       "      <td>1</td>\n",
       "      <td>24</td>\n",
       "      <td>2</td>\n",
       "      <td>2</td>\n",
       "      <td>-1</td>\n",
       "      <td>-1</td>\n",
       "      <td>-2</td>\n",
       "      <td>...</td>\n",
       "      <td>0.0</td>\n",
       "      <td>0.0</td>\n",
       "      <td>0.0</td>\n",
       "      <td>0.0</td>\n",
       "      <td>689.0</td>\n",
       "      <td>0.0</td>\n",
       "      <td>0.0</td>\n",
       "      <td>0.0</td>\n",
       "      <td>0.0</td>\n",
       "      <td>1</td>\n",
       "    </tr>\n",
       "    <tr>\n",
       "      <th>1</th>\n",
       "      <td>120000.0</td>\n",
       "      <td>2</td>\n",
       "      <td>2</td>\n",
       "      <td>2</td>\n",
       "      <td>26</td>\n",
       "      <td>-1</td>\n",
       "      <td>2</td>\n",
       "      <td>0</td>\n",
       "      <td>0</td>\n",
       "      <td>0</td>\n",
       "      <td>...</td>\n",
       "      <td>3272.0</td>\n",
       "      <td>3455.0</td>\n",
       "      <td>3261.0</td>\n",
       "      <td>0.0</td>\n",
       "      <td>1000.0</td>\n",
       "      <td>1000.0</td>\n",
       "      <td>1000.0</td>\n",
       "      <td>0.0</td>\n",
       "      <td>2000.0</td>\n",
       "      <td>1</td>\n",
       "    </tr>\n",
       "    <tr>\n",
       "      <th>2</th>\n",
       "      <td>90000.0</td>\n",
       "      <td>2</td>\n",
       "      <td>2</td>\n",
       "      <td>2</td>\n",
       "      <td>34</td>\n",
       "      <td>0</td>\n",
       "      <td>0</td>\n",
       "      <td>0</td>\n",
       "      <td>0</td>\n",
       "      <td>0</td>\n",
       "      <td>...</td>\n",
       "      <td>14331.0</td>\n",
       "      <td>14948.0</td>\n",
       "      <td>15549.0</td>\n",
       "      <td>1518.0</td>\n",
       "      <td>1500.0</td>\n",
       "      <td>1000.0</td>\n",
       "      <td>1000.0</td>\n",
       "      <td>1000.0</td>\n",
       "      <td>5000.0</td>\n",
       "      <td>0</td>\n",
       "    </tr>\n",
       "  </tbody>\n",
       "</table>\n",
       "<p>3 rows × 24 columns</p>\n",
       "</div>"
      ],
      "text/plain": [
       "   LIMIT_BAL  SEX  EDUCATION  MARRIAGE  AGE  PAY_0  PAY_2  PAY_3  PAY_4  \\\n",
       "0    20000.0    2          2         1   24      2      2     -1     -1   \n",
       "1   120000.0    2          2         2   26     -1      2      0      0   \n",
       "2    90000.0    2          2         2   34      0      0      0      0   \n",
       "\n",
       "   PAY_5  ...  BILL_AMT4  BILL_AMT5  BILL_AMT6  PAY_AMT1  PAY_AMT2  PAY_AMT3  \\\n",
       "0     -2  ...        0.0        0.0        0.0       0.0     689.0       0.0   \n",
       "1      0  ...     3272.0     3455.0     3261.0       0.0    1000.0    1000.0   \n",
       "2      0  ...    14331.0    14948.0    15549.0    1518.0    1500.0    1000.0   \n",
       "\n",
       "   PAY_AMT4  PAY_AMT5  PAY_AMT6  default.payment.next.month  \n",
       "0       0.0       0.0       0.0                           1  \n",
       "1    1000.0       0.0    2000.0                           1  \n",
       "2    1000.0    1000.0    5000.0                           0  \n",
       "\n",
       "[3 rows x 24 columns]"
      ]
     },
     "execution_count": 3,
     "metadata": {},
     "output_type": "execute_result"
    }
   ],
   "source": [
    "df=df.drop('ID',axis=1)\n",
    "df.head(3)"
   ]
  },
  {
   "cell_type": "code",
   "execution_count": 4,
   "id": "035aac52",
   "metadata": {
    "execution": {
     "iopub.execute_input": "2025-03-24T09:36:55.026606Z",
     "iopub.status.busy": "2025-03-24T09:36:55.026257Z",
     "iopub.status.idle": "2025-03-24T09:36:55.031871Z",
     "shell.execute_reply": "2025-03-24T09:36:55.031073Z"
    },
    "papermill": {
     "duration": 0.01131,
     "end_time": "2025-03-24T09:36:55.033721",
     "exception": false,
     "start_time": "2025-03-24T09:36:55.022411",
     "status": "completed"
    },
    "tags": []
   },
   "outputs": [],
   "source": [
    "y=df['default.payment.next.month']\n",
    "x=df.drop('default.payment.next.month',axis=1)"
   ]
  },
  {
   "cell_type": "code",
   "execution_count": 5,
   "id": "c356665b",
   "metadata": {
    "execution": {
     "iopub.execute_input": "2025-03-24T09:36:55.041168Z",
     "iopub.status.busy": "2025-03-24T09:36:55.040792Z",
     "iopub.status.idle": "2025-03-24T09:36:55.057269Z",
     "shell.execute_reply": "2025-03-24T09:36:55.056081Z"
    },
    "papermill": {
     "duration": 0.022255,
     "end_time": "2025-03-24T09:36:55.059220",
     "exception": false,
     "start_time": "2025-03-24T09:36:55.036965",
     "status": "completed"
    },
    "tags": []
   },
   "outputs": [],
   "source": [
    "x_train,x_test,y_train,y_test=train_test_split(x,y,random_state=42,train_size=0.77)"
   ]
  },
  {
   "cell_type": "code",
   "execution_count": 6,
   "id": "61dc710f",
   "metadata": {
    "execution": {
     "iopub.execute_input": "2025-03-24T09:36:55.066710Z",
     "iopub.status.busy": "2025-03-24T09:36:55.066326Z",
     "iopub.status.idle": "2025-03-24T09:36:55.294289Z",
     "shell.execute_reply": "2025-03-24T09:36:55.292897Z"
    },
    "papermill": {
     "duration": 0.233916,
     "end_time": "2025-03-24T09:36:55.296393",
     "exception": false,
     "start_time": "2025-03-24T09:36:55.062477",
     "status": "completed"
    },
    "tags": []
   },
   "outputs": [
    {
     "name": "stderr",
     "output_type": "stream",
     "text": [
      "/usr/local/lib/python3.10/dist-packages/sklearn/linear_model/_logistic.py:458: ConvergenceWarning: lbfgs failed to converge (status=1):\n",
      "STOP: TOTAL NO. of ITERATIONS REACHED LIMIT.\n",
      "\n",
      "Increase the number of iterations (max_iter) or scale the data as shown in:\n",
      "    https://scikit-learn.org/stable/modules/preprocessing.html\n",
      "Please also refer to the documentation for alternative solver options:\n",
      "    https://scikit-learn.org/stable/modules/linear_model.html#logistic-regression\n",
      "  n_iter_i = _check_optimize_result(\n"
     ]
    }
   ],
   "source": [
    "log=LogisticRegression()\n",
    "model=log.fit(x_train,y_train)"
   ]
  },
  {
   "cell_type": "code",
   "execution_count": 7,
   "id": "a49ca838",
   "metadata": {
    "execution": {
     "iopub.execute_input": "2025-03-24T09:36:55.304258Z",
     "iopub.status.busy": "2025-03-24T09:36:55.303892Z",
     "iopub.status.idle": "2025-03-24T09:36:55.313787Z",
     "shell.execute_reply": "2025-03-24T09:36:55.312748Z"
    },
    "papermill": {
     "duration": 0.01581,
     "end_time": "2025-03-24T09:36:55.315582",
     "exception": false,
     "start_time": "2025-03-24T09:36:55.299772",
     "status": "completed"
    },
    "tags": []
   },
   "outputs": [
    {
     "data": {
      "text/plain": [
       "0.7831884057971015"
      ]
     },
     "execution_count": 7,
     "metadata": {},
     "output_type": "execute_result"
    }
   ],
   "source": [
    "model.score(x_test,y_test)"
   ]
  },
  {
   "cell_type": "code",
   "execution_count": 8,
   "id": "8c0646f9",
   "metadata": {
    "execution": {
     "iopub.execute_input": "2025-03-24T09:36:55.323530Z",
     "iopub.status.busy": "2025-03-24T09:36:55.323142Z",
     "iopub.status.idle": "2025-03-24T09:36:55.327923Z",
     "shell.execute_reply": "2025-03-24T09:36:55.326946Z"
    },
    "papermill": {
     "duration": 0.010442,
     "end_time": "2025-03-24T09:36:55.329444",
     "exception": false,
     "start_time": "2025-03-24T09:36:55.319002",
     "status": "completed"
    },
    "tags": []
   },
   "outputs": [],
   "source": [
    "denemex=np.array(x.iloc[1903])"
   ]
  },
  {
   "cell_type": "code",
   "execution_count": 9,
   "id": "c23a7f89",
   "metadata": {
    "execution": {
     "iopub.execute_input": "2025-03-24T09:36:55.337294Z",
     "iopub.status.busy": "2025-03-24T09:36:55.336910Z",
     "iopub.status.idle": "2025-03-24T09:36:55.346721Z",
     "shell.execute_reply": "2025-03-24T09:36:55.345618Z"
    },
    "papermill": {
     "duration": 0.015693,
     "end_time": "2025-03-24T09:36:55.348547",
     "exception": false,
     "start_time": "2025-03-24T09:36:55.332854",
     "status": "completed"
    },
    "tags": []
   },
   "outputs": [
    {
     "name": "stderr",
     "output_type": "stream",
     "text": [
      "/usr/local/lib/python3.10/dist-packages/sklearn/base.py:439: UserWarning: X does not have valid feature names, but LogisticRegression was fitted with feature names\n",
      "  warnings.warn(\n"
     ]
    },
    {
     "data": {
      "text/plain": [
       "array([0])"
      ]
     },
     "execution_count": 9,
     "metadata": {},
     "output_type": "execute_result"
    }
   ],
   "source": [
    "model.predict([denemex])"
   ]
  }
 ],
 "metadata": {
  "kaggle": {
   "accelerator": "none",
   "dataSources": [
    {
     "datasetId": 306,
     "sourceId": 666,
     "sourceType": "datasetVersion"
    }
   ],
   "dockerImageVersionId": 30918,
   "isGpuEnabled": false,
   "isInternetEnabled": false,
   "language": "python",
   "sourceType": "notebook"
  },
  "kernelspec": {
   "display_name": "Python 3",
   "language": "python",
   "name": "python3"
  },
  "language_info": {
   "codemirror_mode": {
    "name": "ipython",
    "version": 3
   },
   "file_extension": ".py",
   "mimetype": "text/x-python",
   "name": "python",
   "nbconvert_exporter": "python",
   "pygments_lexer": "ipython3",
   "version": "3.10.12"
  },
  "papermill": {
   "default_parameters": {},
   "duration": 6.707821,
   "end_time": "2025-03-24T09:36:56.072325",
   "environment_variables": {},
   "exception": null,
   "input_path": "__notebook__.ipynb",
   "output_path": "__notebook__.ipynb",
   "parameters": {},
   "start_time": "2025-03-24T09:36:49.364504",
   "version": "2.6.0"
  }
 },
 "nbformat": 4,
 "nbformat_minor": 5
}
